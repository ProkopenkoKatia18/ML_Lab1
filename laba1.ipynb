{
 "cells": [
  {
   "cell_type": "code",
   "execution_count": 3,
   "metadata": {},
   "outputs": [],
   "source": [
    "import numpy as np\n",
    "df = np.genfromtxt('data.csv', delimiter=',')"
   ]
  },
  {
   "cell_type": "code",
   "execution_count": 4,
   "metadata": {
    "scrolled": true
   },
   "outputs": [
    {
     "data": {
      "text/plain": [
       "Text(0.5, 1.0, 'Training Set')"
      ]
     },
     "execution_count": 4,
     "metadata": {},
     "output_type": "execute_result"
    },
    {
     "data": {
      "image/png": "[encoded data removed]",
      "text/plain": [
       "<Figure size 432x288 with 1 Axes>"
      ]
     },
     "metadata": {
      "needs_background": "light"
     },
     "output_type": "display_data"
    }
   ],
   "source": [
    "import matplotlib.pyplot as plt\n",
    "plt.plot(df[:,0], df[:,1], 'bo')\n",
    "plt.xlabel(\"Feature X\")\n",
    "plt.ylabel(\"Labels\")\n",
    "plt.title(\"Training Set\")"
   ]
  },
  {
   "cell_type": "code",
   "execution_count": 9,
   "metadata": {},
   "outputs": [],
   "source": [
    "x = np.zeros(df.shape)\n",
    "x[:,0] = np.ones(df.shape[0])\n",
    "x[:,1] = df[:,0]\n",
    "y = df[:, 1]"
   ]
  },
  {
   "cell_type": "code",
   "execution_count": 16,
   "metadata": {},
   "outputs": [],
   "source": [
    "def hypothesis(x_inp, theta):\n",
    "    return x_inp @ theta"
   ]
  },
  {
   "cell_type": "code",
   "execution_count": 17,
   "metadata": {},
   "outputs": [],
   "source": [
    "def cost_func(x_inp, y_tar, theta):\n",
    "    m = x_inp.shape[0]\n",
    "    return ((hypothesis(x_inp, theta) - y_tar).T @ (hypothesis(x_inp, theta) - y_tar)) / (2*m)"
   ]
  },
  {
   "cell_type": "code",
   "execution_count": 18,
   "metadata": {},
   "outputs": [],
   "source": [
    "def gradient_descent(alpha, theta, x_inp, y_tar):\n",
    "    m = x_inp.shape[0] #60\n",
    "    prev_theta = np.copy(theta)\n",
    "    np.subtract(theta, (alpha/m) * (x_inp.T @ (hypothesis(x_inp, theta) - y_tar)), out=theta)\n",
    "    eps = 0.0000001\n",
    "    itr = 1\n",
    "    print(f'Epoch = 0, theta = {theta}, cost_func = {cost_func(x_inp, y_tar, theta)}')\n",
    "    while np.max(np.absolute(theta - prev_theta)) > eps:\n",
    "        prev_theta = np.copy(theta)\n",
    "        np.subtract(theta, (alpha/m) * (x_inp.T @ (hypothesis(x_inp, theta) - y_tar)), out=theta)\n",
    "        print(f'Epoch = {itr}, theta = {theta}, cost_func = {cost_func(x_inp, y_tar, theta)}')\n",
    "        itr += 1\n",
    "    return theta"
   ]
  },
  {
   "cell_type": "code",
   "execution_count": null,
   "metadata": {},
   "outputs": [],
   "source": [
    "#Model selection\n",
    "trial_alpha = np.array([0.01, 0.03, 0.09, 0.27])\n",
    "calc_costs = np.zeros(4)\n",
    "for i in range(0,60,15):\n",
    "    cv_x = x[i:i+15, :]\n",
    "    cv_y = y[i:i+15]\n",
    "    train_x = np.concatenate((x[0:i,:], x[i+15:, :])) if i+15 < 60 else x[0:i,:]\n",
    "    train_y = np.concatenate((y[0:i], y[i+15:])) if i+15 < 60 else y[0:i]\n",
    "    theta = gradient_descent(trial_alpha[i//15], np.array([0.,0.]), train_x, train_y)\n",
    "    calc_costs[i//15] = cost_func(cv_x, cv_y, theta)\n",
    "print(f'cost_func for alpha(0.01, 0.03, 0.09, 0.27) = {calc_costs}')\n"
   ]
  },
  {
   "cell_type": "code",
   "execution_count": null,
   "metadata": {},
   "outputs": [],
   "source": [
    "l_alpha = 0.03\n",
    "test_df = np.genfromtxt('test_data.csv', delimiter=',')\n",
    "test_x = np.zeros(test_df.shape)\n",
    "test_x[:, 0] = np.ones(test_df.shape[0])\n",
    "test_x[:, 1] = test_df[:, 0]\n",
    "test_y = test_df[:,1]\n",
    "\n",
    "theta = gradient_descent(l_alpha, np.array([0.,0.]), x, y)\n",
    "print(f'Cost func on training set = {cost_func(x, y, theta)}')\n",
    "print(f'Cost func on test set = {cost_func(test_x, test_y, theta)}')"
   ]
  },
  {
   "cell_type": "code",
   "execution_count": 9,
   "metadata": {},
   "outputs": [
    {
     "data": {
      "text/plain": [
       "[<matplotlib.lines.Line2D at 0x7f33eeb05610>]"
      ]
     },
     "execution_count": 9,
     "metadata": {},
     "output_type": "execute_result"
    },
    {
     "data": {
      "image/png": "[encoded data removed]",
      "text/plain": [
       "<Figure size 432x288 with 1 Axes>"
      ]
     },
     "metadata": {
      "needs_background": "light"
     },
     "output_type": "display_data"
    }
   ],
   "source": [
    "plt.clf()\n",
    "plt.plot(df[:,0], df[:,1], 'bo')\n",
    "plt.plot(test_df[:,0], test_df[:,1], 'ro')\n",
    "points = np.linspace(0,1,15)\n",
    "line = np.array([hypothesis([1,i],theta) for i in points])\n",
    "plt.plot(points, line, 'co-')"
   ]
  }
 ],
 "metadata": {
  "kernelspec": {
   "display_name": "Python 3",
   "language": "python",
   "name": "python3"
  },
  "language_info": {
   "codemirror_mode": {
    "name": "ipython",
    "version": 3
   },
   "file_extension": ".py",
   "mimetype": "text/x-python",
   "name": "python",
   "nbconvert_exporter": "python",
   "pygments_lexer": "ipython3",
   "version": "3.9.2"
  }
 },
 "nbformat": 4,
 "nbformat_minor": 4
}
